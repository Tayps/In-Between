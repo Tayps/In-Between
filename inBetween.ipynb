{
 "cells": [
  {
   "cell_type": "code",
   "execution_count": 1,
   "id": "5860e8b6-6563-4ef3-a791-d4f77ec0c95c",
   "metadata": {},
   "outputs": [],
   "source": [
    "import random as rand\n",
    "import numpy as np\n",
    "import inquirer\n",
    "from collections import Counter\n",
    "import pandas as pd"
   ]
  },
  {
   "cell_type": "code",
   "execution_count": 388,
   "id": "b89e690e-8c41-4cce-95b2-5e8c07773b06",
   "metadata": {},
   "outputs": [],
   "source": [
    "# Creating the deck \n",
    "\n",
    "deck = []\n",
    "cardValue = {}\n",
    "for i in range(1,14):\n",
    "    val = i\n",
    "    i = str(i)\n",
    "    if i == '1':\n",
    "        i = 'Ace'\n",
    "    elif i == '11':\n",
    "        i = 'Jack'\n",
    "    elif i == '12':\n",
    "        i = 'Queen'\n",
    "    elif i == '13':\n",
    "        i = 'King'\n",
    "    else:\n",
    "        i=i\n",
    "    for j in ['\\U00002665', '\\U00002663', '\\U00002666', '\\U00002660']:\n",
    "        deck.append(i + ' ' + j)\n",
    "        cardValue[i + ' ' + j] = val\n",
    "\n",
    "# cardValue, deck"
   ]
  },
  {
   "cell_type": "code",
   "execution_count": 389,
   "id": "7782a37e-d930-4e96-bac9-b7f5c0c8e978",
   "metadata": {},
   "outputs": [],
   "source": [
    "def shuffle(deckCount):\n",
    "    global deck\n",
    "    deck = list(np.repeat(deck,deckCount))\n",
    "    rand.shuffle(deck)\n",
    "\n",
    "shuffle(2)"
   ]
  },
  {
   "cell_type": "code",
   "execution_count": 352,
   "id": "95fd4730-7e46-4d8f-9ecc-380caf0b83ea",
   "metadata": {},
   "outputs": [
    {
     "data": {
      "text/plain": [
       "['10 ♣', 'King ♥']"
      ]
     },
     "execution_count": 352,
     "metadata": {},
     "output_type": "execute_result"
    }
   ],
   "source": [
    "def dealOuter():\n",
    "    tableCards = []\n",
    "    tableCards.append(deck.pop())\n",
    "    tableCards.append(deck.pop())\n",
    "    tableCards.sort()\n",
    "    return tableCards\n",
    "\n",
    "table = dealOuter()\n",
    "table"
   ]
  },
  {
   "cell_type": "code",
   "execution_count": 353,
   "id": "4d0610ed-caf7-4a1e-8ce4-0b8b139a6e9a",
   "metadata": {},
   "outputs": [],
   "source": [
    "def autoTiang():\n",
    "    if cardValue[table[0]] == cardValue[table[1]]:\n",
    "        return True\n",
    "    else:\n",
    "        pass\n",
    "\n",
    "autoTiang()"
   ]
  },
  {
   "cell_type": "code",
   "execution_count": 356,
   "id": "a4927964-7b38-4e14-9771-b851d2d7ce2b",
   "metadata": {},
   "outputs": [
    {
     "data": {
      "text/plain": [
       "(0.1568627450980392,\n",
       " 0.13725490196078433,\n",
       " 0.7058823529411764,\n",
       " -0.8235294117647058)"
      ]
     },
     "execution_count": 356,
     "metadata": {},
     "output_type": "execute_result"
    }
   ],
   "source": [
    "def calEV():\n",
    "    wCards = []\n",
    "    w = 0\n",
    "    \n",
    "    dCards = []\n",
    "    d = 0\n",
    "   \n",
    "    tDeck = deck.copy()\n",
    "    total = len(tDeck)\n",
    "    for i in range(len(tDeck)):\n",
    "        tDeck[i] = cardValue[tDeck[i]]\n",
    "        t = dict(Counter(tDeck))\n",
    "    \n",
    "    for i in range(min(cardValue[table[0]],cardValue[table[1]])+1, max(cardValue[table[0]],cardValue[table[1]])):\n",
    "        wCards.append(i)\n",
    "    # return wCards\n",
    "    for j in wCards:\n",
    "        w += t[j]\n",
    "\n",
    "    dCards.extend([cardValue[table[0]], cardValue[table[1]]])\n",
    "    for k in dCards:\n",
    "        d += t[k]\n",
    "\n",
    "    wOdds = w/total\n",
    "    dOdds = d/total\n",
    "    lOdds = 1 - (wOdds + dOdds)\n",
    "\n",
    "    ev = (1*wOdds) + (-1*lOdds) + (-2*dOdds)\n",
    "    \n",
    "    return wOdds, dOdds, lOdds, ev\n",
    "        \n",
    "calEV()\n"
   ]
  },
  {
   "cell_type": "code",
   "execution_count": 300,
   "id": "9cefee9c-8361-4e56-bcdd-031f6fd841f6",
   "metadata": {},
   "outputs": [
    {
     "data": {
      "text/plain": [
       "['Queen ♥']"
      ]
     },
     "execution_count": 300,
     "metadata": {},
     "output_type": "execute_result"
    }
   ],
   "source": [
    "def dealInner():\n",
    "    innerCard = []\n",
    "    innerCard.append(deck.pop())\n",
    "    return innerCard\n",
    "\n",
    "player = dealInner()\n",
    "player"
   ]
  },
  {
   "cell_type": "code",
   "execution_count": 355,
   "id": "5f95a42f-50c5-4e9e-928e-e43344eb845c",
   "metadata": {},
   "outputs": [
    {
     "data": {
      "text/plain": [
       "'Win'"
      ]
     },
     "execution_count": 355,
     "metadata": {},
     "output_type": "execute_result"
    }
   ],
   "source": [
    "def compareValue(table, player):\n",
    "    if cardValue[player[0]] < max(cardValue[table[0]],cardValue[table[1]]) and cardValue[player[0]] > min(cardValue[table[0]],cardValue[table[1]]):\n",
    "        return 'Win'\n",
    "    elif cardValue[player[0]] == cardValue[table[0]] or cardValue[player[0]] == cardValue[table[1]]:\n",
    "        return 'Pay Double'\n",
    "    else: \n",
    "        return 'Lose'\n",
    "\n",
    "compareValue(table,player)"
   ]
  },
  {
   "cell_type": "code",
   "execution_count": 391,
   "id": "6ff6637a-b707-477b-a6dc-bb6e0eacde81",
   "metadata": {},
   "outputs": [],
   "source": [
    "# Main Gameplay\n"
   ]
  },
  {
   "cell_type": "code",
   "execution_count": 392,
   "id": "5a79d9c7-70e2-4070-8c82-82bf8dbb28b0",
   "metadata": {},
   "outputs": [
    {
     "data": {
      "text/plain": [
       "208"
      ]
     },
     "execution_count": 392,
     "metadata": {},
     "output_type": "execute_result"
    }
   ],
   "source": [
    "len(deck)\n",
    "# # i = 17\n",
    "\n",
    "# for i in range(len(deck)):\n",
    "#     deck[i] = cardValue[deck[i]]\n",
    "\n",
    "# deck \n",
    "# cardValue[deck[17]]\n",
    "# deck[17]"
   ]
  },
  {
   "cell_type": "code",
   "execution_count": 341,
   "id": "722c6694-250e-49e4-8ccb-7888fccabcbe",
   "metadata": {},
   "outputs": [
    {
     "data": {
      "text/plain": [
       "{3: 8,\n",
       " 8: 7,\n",
       " 13: 8,\n",
       " 4: 8,\n",
       " 5: 8,\n",
       " 10: 7,\n",
       " 1: 8,\n",
       " 11: 8,\n",
       " 2: 7,\n",
       " 7: 8,\n",
       " 12: 8,\n",
       " 6: 8,\n",
       " 9: 7}"
      ]
     },
     "execution_count": 341,
     "metadata": {},
     "output_type": "execute_result"
    }
   ],
   "source": [
    "def checkDeck():\n",
    "    tDeck = deck.copy()\n",
    "    for i in range(len(tDeck)):\n",
    "        tDeck[i] = cardValue[tDeck[i]]\n",
    "    return dict(Counter(tDeck))\n",
    "    tDeck.clear()\n",
    "\n",
    "checkDeck()"
   ]
  },
  {
   "cell_type": "code",
   "execution_count": 22,
   "id": "9de9384b-80e7-4fc0-b25d-101a63b714c1",
   "metadata": {},
   "outputs": [
    {
     "name": "stdout",
     "output_type": "stream",
     "text": [
      "     run  EV\n",
      "0      5   5\n",
      "1      6   9\n",
      "2      4   6\n",
      "3      8   1\n",
      "4      9   9\n",
      "..   ...  ..\n",
      "994    7   3\n",
      "995    8   8\n",
      "996    4   1\n",
      "997    1   4\n",
      "998    7   3\n",
      "\n",
      "[999 rows x 2 columns]\n"
     ]
    }
   ],
   "source": [
    "# Appending loop output to Pandas data frame\n",
    "\n",
    "tlist = []\n",
    "hand = {}\n",
    "\n",
    "def oneHand():\n",
    "    global hand\n",
    "    hand[\"run\"] = rand.randint(1,9)\n",
    "    hand[\"EV\"] = rand.randint(1,9) \n",
    "    return hand\n",
    "\n",
    "for i in range(1,1000):\n",
    "    tlist.append(list(oneHand().values()))\n",
    "\n",
    "df = pd.DataFrame(tlist,columns= hand.keys())\n",
    "print(df)"
   ]
  },
  {
   "cell_type": "code",
   "execution_count": 305,
   "id": "ffc3f523-51fc-4640-8a8e-dfb3e97b8490",
   "metadata": {},
   "outputs": [
    {
     "data": {
      "text/plain": [
       "['King ♣',\n",
       " '5 ♥',\n",
       " '7 ♠',\n",
       " '4 ♥',\n",
       " '2 ♥',\n",
       " 'King ♣',\n",
       " 'King ♥',\n",
       " 'Jack ♣',\n",
       " '6 ♠',\n",
       " 'Queen ♠',\n",
       " 'Jack ♣',\n",
       " 'Ace ♥',\n",
       " 'King ♠',\n",
       " '3 ♦',\n",
       " '8 ♠',\n",
       " 'Ace ♣',\n",
       " '8 ♦',\n",
       " '2 ♦',\n",
       " 'Ace ♠',\n",
       " '2 ♠',\n",
       " '10 ♥',\n",
       " '3 ♥',\n",
       " '3 ♥',\n",
       " '8 ♥',\n",
       " '10 ♦',\n",
       " 'Jack ♦',\n",
       " '9 ♣',\n",
       " '9 ♦',\n",
       " 'Ace ♣',\n",
       " '10 ♦',\n",
       " '6 ♥',\n",
       " '9 ♠',\n",
       " '3 ♠',\n",
       " '4 ♥',\n",
       " 'Queen ♣',\n",
       " 'King ♠',\n",
       " '5 ♣',\n",
       " 'Queen ♦',\n",
       " '2 ♥',\n",
       " '4 ♣',\n",
       " '2 ♣',\n",
       " '7 ♣',\n",
       " '7 ♠',\n",
       " '3 ♣',\n",
       " '8 ♦',\n",
       " 'Jack ♦',\n",
       " 'Queen ♥',\n",
       " '5 ♣',\n",
       " '9 ♠',\n",
       " 'King ♦',\n",
       " '5 ♦',\n",
       " '4 ♣',\n",
       " '10 ♣',\n",
       " 'Queen ♠',\n",
       " '2 ♠',\n",
       " 'Queen ♣',\n",
       " '3 ♦',\n",
       " '9 ♣',\n",
       " '7 ♦',\n",
       " '6 ♣',\n",
       " '8 ♥',\n",
       " '8 ♣',\n",
       " '4 ♠',\n",
       " 'Jack ♠',\n",
       " '7 ♣',\n",
       " 'Jack ♥',\n",
       " '5 ♠',\n",
       " '6 ♥',\n",
       " '5 ♠',\n",
       " '10 ♥',\n",
       " '5 ♥',\n",
       " '9 ♥',\n",
       " '10 ♠',\n",
       " '4 ♦',\n",
       " '8 ♠',\n",
       " '6 ♠',\n",
       " 'Ace ♦',\n",
       " 'Ace ♦',\n",
       " 'Jack ♥',\n",
       " '10 ♠',\n",
       " 'King ♥',\n",
       " '6 ♣',\n",
       " '7 ♥',\n",
       " '3 ♠',\n",
       " '6 ♦',\n",
       " '2 ♣',\n",
       " '3 ♣',\n",
       " '9 ♥',\n",
       " '7 ♥',\n",
       " '7 ♦',\n",
       " 'King ♦',\n",
       " '8 ♣',\n",
       " 'Ace ♠',\n",
       " 'Ace ♥',\n",
       " '2 ♦',\n",
       " 'Jack ♠',\n",
       " '4 ♠',\n",
       " '5 ♦',\n",
       " '4 ♦',\n",
       " '6 ♦',\n",
       " '9 ♦']"
      ]
     },
     "execution_count": 305,
     "metadata": {},
     "output_type": "execute_result"
    }
   ],
   "source": [
    "deck"
   ]
  },
  {
   "cell_type": "code",
   "execution_count": 273,
   "id": "f0e1deaa-3a90-4fbd-bf5e-18c8fc74ffde",
   "metadata": {},
   "outputs": [
    {
     "data": {
      "text/plain": [
       "{'2': 8,\n",
       " '4': 8,\n",
       " '7': 8,\n",
       " '10': 8,\n",
       " 'Ace': 8,\n",
       " 'Queen': 8,\n",
       " '6': 8,\n",
       " 'King': 8,\n",
       " '9': 7,\n",
       " '3': 8,\n",
       " '5': 6,\n",
       " 'Jack': 8,\n",
       " '8': 8}"
      ]
     },
     "execution_count": 273,
     "metadata": {},
     "output_type": "execute_result"
    }
   ],
   "source": [
    "checkDeck()"
   ]
  },
  {
   "cell_type": "code",
   "execution_count": 364,
   "id": "65e2384f-01e3-438f-9331-7056c048d556",
   "metadata": {},
   "outputs": [
    {
     "data": {
      "text/plain": [
       "['8 ♦',\n",
       " 'King ♥',\n",
       " '2 ♦',\n",
       " '6 ♠',\n",
       " '8 ♣',\n",
       " 'Queen ♠',\n",
       " '10 ♥',\n",
       " '9 ♥',\n",
       " '7 ♠',\n",
       " '8 ♣',\n",
       " 'King ♦',\n",
       " '5 ♥',\n",
       " '7 ♠',\n",
       " '7 ♦',\n",
       " 'Ace ♥',\n",
       " '3 ♠',\n",
       " 'Queen ♥',\n",
       " '10 ♦',\n",
       " 'Jack ♠',\n",
       " '5 ♠',\n",
       " '2 ♥',\n",
       " '10 ♥',\n",
       " '2 ♣',\n",
       " '6 ♥',\n",
       " '5 ♣',\n",
       " 'Jack ♥',\n",
       " '9 ♦',\n",
       " '2 ♣',\n",
       " 'Queen ♦',\n",
       " '7 ♦',\n",
       " '9 ♣',\n",
       " '3 ♥',\n",
       " '4 ♦',\n",
       " 'Ace ♠',\n",
       " 'Jack ♣',\n",
       " 'King ♣',\n",
       " '9 ♦',\n",
       " '8 ♠',\n",
       " 'Ace ♣',\n",
       " '8 ♥',\n",
       " '2 ♥',\n",
       " '10 ♠',\n",
       " '10 ♣',\n",
       " '9 ♠',\n",
       " '6 ♠',\n",
       " '2 ♠',\n",
       " '6 ♣',\n",
       " '5 ♣',\n",
       " '6 ♦',\n",
       " 'Queen ♥',\n",
       " 'Ace ♥',\n",
       " '8 ♠',\n",
       " '8 ♥',\n",
       " '6 ♥',\n",
       " '3 ♥',\n",
       " '4 ♥',\n",
       " 'Queen ♣',\n",
       " 'Jack ♥',\n",
       " '7 ♣',\n",
       " '3 ♣',\n",
       " 'Jack ♠',\n",
       " '4 ♠',\n",
       " '9 ♣',\n",
       " '4 ♣',\n",
       " '7 ♣',\n",
       " 'Jack ♣',\n",
       " '4 ♦',\n",
       " '5 ♦',\n",
       " 'Queen ♦',\n",
       " '10 ♠',\n",
       " 'Queen ♣',\n",
       " '2 ♠',\n",
       " '8 ♦',\n",
       " '6 ♦',\n",
       " 'Ace ♠',\n",
       " '2 ♦',\n",
       " '10 ♦',\n",
       " 'Queen ♠',\n",
       " '3 ♣',\n",
       " '6 ♣',\n",
       " '7 ♥',\n",
       " '7 ♥',\n",
       " '5 ♦',\n",
       " 'Ace ♦',\n",
       " '3 ♦',\n",
       " 'King ♠',\n",
       " '4 ♥',\n",
       " 'Ace ♦',\n",
       " '5 ♥',\n",
       " 'Ace ♣',\n",
       " '3 ♠',\n",
       " 'King ♠',\n",
       " '9 ♠',\n",
       " '9 ♥',\n",
       " '10 ♣',\n",
       " 'King ♣',\n",
       " '4 ♠',\n",
       " '3 ♦',\n",
       " '5 ♠',\n",
       " 'King ♥',\n",
       " 'Jack ♦',\n",
       " 'King ♦',\n",
       " '4 ♣',\n",
       " 'Jack ♦']"
      ]
     },
     "execution_count": 364,
     "metadata": {},
     "output_type": "execute_result"
    }
   ],
   "source": [
    "deck"
   ]
  }
 ],
 "metadata": {
  "kernelspec": {
   "display_name": "venv",
   "language": "python",
   "name": "venv"
  },
  "language_info": {
   "codemirror_mode": {
    "name": "ipython",
    "version": 3
   },
   "file_extension": ".py",
   "mimetype": "text/x-python",
   "name": "python",
   "nbconvert_exporter": "python",
   "pygments_lexer": "ipython3",
   "version": "3.10.12"
  }
 },
 "nbformat": 4,
 "nbformat_minor": 5
}
