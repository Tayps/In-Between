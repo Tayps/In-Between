{
 "cells": [
  {
   "cell_type": "markdown",
   "id": "c2cab078-1bd7-4a43-a6a8-1242cbcb1d26",
   "metadata": {},
   "source": [
    "### Poker Deck\n",
    "Creating a poker deck for use in other projects."
   ]
  },
  {
   "cell_type": "code",
   "execution_count": 1,
   "id": "610e25b2-e3e2-47f9-86b8-581e55ca6b95",
   "metadata": {},
   "outputs": [],
   "source": [
    "import random as rand\n",
    "import numpy as np"
   ]
  },
  {
   "cell_type": "code",
   "execution_count": null,
   "id": "b1bb01cb-e15f-46a8-806c-cb8f238da383",
   "metadata": {},
   "outputs": [],
   "source": [
    "# Creating the deck \n",
    "\n",
    "deck = []\n",
    "cardValue = {}\n",
    "for i in range(1,14):\n",
    "    val = i\n",
    "    i = str(i)\n",
    "    if i == '1':\n",
    "        i = 'Ace'\n",
    "    elif i == '11':\n",
    "        i = 'Jack'\n",
    "    elif i == '12':\n",
    "        i = 'Queen'\n",
    "    elif i == '13':\n",
    "        i = 'King'\n",
    "    else:\n",
    "        i=i\n",
    "    for j in ['\\U00002665', '\\U00002663', '\\U00002666', '\\U00002660']:\n",
    "        deck.append(i + ' ' + j)\n",
    "        cardValue[i + ' ' + j] = val"
   ]
  },
  {
   "cell_type": "code",
   "execution_count": null,
   "id": "d80379d4-dd37-4aab-9c04-42fbc682e800",
   "metadata": {},
   "outputs": [],
   "source": [
    "def shuffle(deckCount):\n",
    "    global deck\n",
    "    deck = list(np.repeat(deck,deckCount))\n",
    "    rand.shuffle(deck)\n",
    "\n",
    "shuffle(2)"
   ]
  },
  {
   "cell_type": "markdown",
   "id": "131b4f90-77de-4c58-85df-800d40058c4f",
   "metadata": {},
   "source": [
    "### Using Classes"
   ]
  },
  {
   "cell_type": "code",
   "execution_count": 41,
   "id": "c46e4c54-3c65-43a7-a9bc-72adb7b11e89",
   "metadata": {},
   "outputs": [],
   "source": [
    "class card:\n",
    "    def __init__(self, suit, rank, color, value, name):\n",
    "        self.suit = suit\n",
    "        self.rank = rank\n",
    "        self.color = color\n",
    "        self.value = value\n",
    "        self.name = name"
   ]
  },
  {
   "cell_type": "code",
   "execution_count": 83,
   "id": "bfcb858e-0070-47bc-b33f-a490b9587b47",
   "metadata": {},
   "outputs": [],
   "source": [
    "class shoe:\n",
    "    # Create a shoe from 1 or more deck of cards\n",
    "    suits = {'Diamond': ['Diamond','\\U00002666','Red', 1],\n",
    "         'Club': ['Club','\\U00002663','Black', 2],\n",
    "         'Heart': ['Heart','\\U00002665','Red', 3],\n",
    "         'Spade': ['Spade', '\\U00002660', 'Black', 4]} \n",
    "    \n",
    "    def __init__(self, deckCount=1, joker=0):\n",
    "        self.deckCount = deckCount\n",
    "        self.joker = joker\n",
    "        self.deck = []\n",
    "        self.discard = []\n",
    "\n",
    "        for i in range(1,14):\n",
    "            val = i \n",
    "            for suit in suits.values():\n",
    "                name = str(i)\n",
    "                if name == '1':\n",
    "                    name = 'Ace'\n",
    "                elif name == '11':\n",
    "                    name = 'Jack'\n",
    "                elif name == '12':\n",
    "                    name = 'Queen'\n",
    "                elif name == '13':\n",
    "                    name = 'King'\n",
    "                else:\n",
    "                    name=name\n",
    "                name += ' ' + suit[1]\n",
    "                name = card(suit[0], suit[3], suit[2], val, name)\n",
    "                self.deck.append(name)\n",
    "        self.deck = self.deck * deckCount\n",
    "        for i in range(joker):\n",
    "            val = None\n",
    "            name = 'Joker' + ' ' + str(i+1)\n",
    "            name = card('Joker','Joker','Joker','Joker',name)\n",
    "            self.deck.append(name)\n",
    "\n",
    "\n",
    "    # Methods:\n",
    "    # - Shuffle : Reset (Take all cards - dealt and shoe - and shuffle them to form new shoe.) - KeepCut?\n",
    "    # - Shuffle : Batch (Suffle dealt cards and append to back of shoe.)\n",
    "    # - Shuffle : Continuous (Take dealt cards and shuffle into shoe) - basically a reset every hand, but retain the next hand(s) from shoe so can deal.\n",
    "\n",
    "    # - Deal Card : Deal a card from top of shoe.\n",
    "\n"
   ]
  },
  {
   "cell_type": "code",
   "execution_count": 86,
   "id": "5018ccee-af0a-4a57-a33e-aafe692658e3",
   "metadata": {},
   "outputs": [
    {
     "data": {
      "text/plain": [
       "'King ♠'"
      ]
     },
     "execution_count": 86,
     "metadata": {},
     "output_type": "execute_result"
    }
   ],
   "source": [
    "ms = shoe()\n",
    "ms.deck[51].name"
   ]
  },
  {
   "cell_type": "code",
   "execution_count": 40,
   "id": "e06a91c8-9260-4e48-9101-a5ea8754f470",
   "metadata": {},
   "outputs": [],
   "source": [
    "suits = {'Diamond': ['Diamond','\\U00002666','Red', 1],\n",
    "         'Club': ['Club','\\U00002663','Black', 2],\n",
    "         'Heart': ['Heart','\\U00002665','Red', 3],\n",
    "         'Spade': ['Spade', '\\U00002660', 'Black', 4]} \n",
    "for i in range(1,14):\n",
    "    val = i \n",
    "    for suit in suits.values():\n",
    "        name = str(i)\n",
    "        if name == '1':\n",
    "            name = 'Ace'\n",
    "        elif name == '11':\n",
    "            name = 'Jack'\n",
    "        elif name == '12':\n",
    "            name = 'Queen'\n",
    "        elif name == '13':\n",
    "            name = 'King'\n",
    "        else:\n",
    "            name=name\n",
    "        name += ' ' + suit[1]\n",
    "        name = card(suit[0], suit[3], suit[2], val, name)\n",
    "    "
   ]
  },
  {
   "cell_type": "code",
   "execution_count": 61,
   "id": "f12692af-f45b-45ba-9425-7a6ffe2e4d29",
   "metadata": {},
   "outputs": [
    {
     "data": {
      "text/plain": [
       "(128101724292712, 128101724292712)"
      ]
     },
     "execution_count": 61,
     "metadata": {},
     "output_type": "execute_result"
    }
   ],
   "source": [
    "ml = [1,2,3,4]\n",
    "ml = ml*2\n",
    "ml[4] = 1\n",
    "id(ml[0]),id(ml[4])"
   ]
  },
  {
   "cell_type": "code",
   "execution_count": 76,
   "id": "857f02b8-f87a-46da-b07c-c9fc2f36e048",
   "metadata": {},
   "outputs": [
    {
     "data": {
      "text/plain": [
       "['Joker', 'Joker', 'Joker']"
      ]
     },
     "execution_count": 76,
     "metadata": {},
     "output_type": "execute_result"
    }
   ],
   "source": [
    "gg = [1,2,3,4]\n",
    "hh = deepcopy(gg)\n",
    "gg + hh\n",
    "joke = ['Joker'] * 3\n",
    "joke"
   ]
  }
 ],
 "metadata": {
  "kernelspec": {
   "display_name": "Python 3 (ipykernel)",
   "language": "python",
   "name": "python3"
  },
  "language_info": {
   "codemirror_mode": {
    "name": "ipython",
    "version": 3
   },
   "file_extension": ".py",
   "mimetype": "text/x-python",
   "name": "python",
   "nbconvert_exporter": "python",
   "pygments_lexer": "ipython3",
   "version": "3.12.3"
  }
 },
 "nbformat": 4,
 "nbformat_minor": 5
}
