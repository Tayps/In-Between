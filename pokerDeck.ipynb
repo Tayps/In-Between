{
 "cells": [
  {
   "cell_type": "markdown",
   "id": "c2cab078-1bd7-4a43-a6a8-1242cbcb1d26",
   "metadata": {},
   "source": [
    "### Poker Deck\n",
    "Creating a poker deck for use in other projects."
   ]
  },
  {
   "cell_type": "code",
   "execution_count": 1,
   "id": "610e25b2-e3e2-47f9-86b8-581e55ca6b95",
   "metadata": {},
   "outputs": [],
   "source": [
    "import random as rand\n",
    "import numpy as np"
   ]
  },
  {
   "cell_type": "code",
   "execution_count": null,
   "id": "b1bb01cb-e15f-46a8-806c-cb8f238da383",
   "metadata": {},
   "outputs": [],
   "source": [
    "# Creating the deck \n",
    "\n",
    "deck = []\n",
    "cardValue = {}\n",
    "for i in range(1,14):\n",
    "    val = i\n",
    "    i = str(i)\n",
    "    if i == '1':\n",
    "        i = 'Ace'\n",
    "    elif i == '11':\n",
    "        i = 'Jack'\n",
    "    elif i == '12':\n",
    "        i = 'Queen'\n",
    "    elif i == '13':\n",
    "        i = 'King'\n",
    "    else:\n",
    "        i=i\n",
    "    for j in ['\\U00002665', '\\U00002663', '\\U00002666', '\\U00002660']:\n",
    "        deck.append(i + ' ' + j)\n",
    "        cardValue[i + ' ' + j] = val"
   ]
  },
  {
   "cell_type": "code",
   "execution_count": null,
   "id": "d80379d4-dd37-4aab-9c04-42fbc682e800",
   "metadata": {},
   "outputs": [],
   "source": [
    "def shuffle(deckCount):\n",
    "    global deck\n",
    "    deck = list(np.repeat(deck,deckCount))\n",
    "    rand.shuffle(deck)\n",
    "\n",
    "shuffle(2)"
   ]
  },
  {
   "cell_type": "markdown",
   "id": "131b4f90-77de-4c58-85df-800d40058c4f",
   "metadata": {},
   "source": [
    "### Using Classes"
   ]
  },
  {
   "cell_type": "code",
   "execution_count": 3,
   "id": "c46e4c54-3c65-43a7-a9bc-72adb7b11e89",
   "metadata": {},
   "outputs": [],
   "source": [
    "class card:\n",
    "    def __init__(self, suit, rank):\n",
    "        self.suit = suit\n",
    "        self.rank = rank"
   ]
  },
  {
   "cell_type": "code",
   "execution_count": 11,
   "id": "a49b6e41-ae24-431b-b0a0-745ea2841176",
   "metadata": {},
   "outputs": [
    {
     "data": {
      "text/plain": [
       "'5'"
      ]
     },
     "execution_count": 11,
     "metadata": {},
     "output_type": "execute_result"
    }
   ],
   "source": [
    "class deck:\n",
    "    def __init__(self):\n",
    "        self.cards = []\n",
    "        suits = ['\\U00002665', '\\U00002663', '\\U00002666', '\\U00002660']\n",
    "        for i in range(1,14):\n",
    "            val = i\n",
    "            i = str(i)\n",
    "            if i == '1':\n",
    "                i = 'Ace'\n",
    "            elif i == '11':\n",
    "                i = 'Jack'\n",
    "            elif i == '12':\n",
    "                i = 'Queen'\n",
    "            elif i == '13':\n",
    "                i = 'King'\n",
    "            else:\n",
    "                i=i\n",
    "            for j in suits:\n",
    "                self.cards.append(card(j,i))\n",
    "                # cardValue[i + ' ' + j] = val\n",
    "\n",
    "deck().cards[19].rank"
   ]
  }
 ],
 "metadata": {
  "kernelspec": {
   "display_name": "Python 3 (ipykernel)",
   "language": "python",
   "name": "python3"
  },
  "language_info": {
   "codemirror_mode": {
    "name": "ipython",
    "version": 3
   },
   "file_extension": ".py",
   "mimetype": "text/x-python",
   "name": "python",
   "nbconvert_exporter": "python",
   "pygments_lexer": "ipython3",
   "version": "3.10.12"
  }
 },
 "nbformat": 4,
 "nbformat_minor": 5
}
